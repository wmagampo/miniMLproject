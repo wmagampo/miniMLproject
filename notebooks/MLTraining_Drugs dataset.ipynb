{
 "cells": [
  {
   "cell_type": "code",
   "execution_count": 1,
   "id": "b1668c75",
   "metadata": {},
   "outputs": [],
   "source": [
    "import pandas as pd\n",
    "from sklearn.neural_network import MLPClassifier\n",
    "from sklearn.ensemble import RandomForestClassifier\n",
    "from sklearn.neighbors import KNeighborsClassifier\n",
    "from sklearn.tree import DecisionTreeClassifier\n",
    "from sklearn.model_selection import cross_val_score\n",
    "from sklearn.metrics import classification_report\n",
    "from sklearn.model_selection import GridSearchCV\n",
    "from joblib import dump, load\n",
    "from sklearn.model_selection import train_test_split"
   ]
  },
  {
   "cell_type": "code",
   "execution_count": 2,
   "id": "e7550f85",
   "metadata": {
    "scrolled": true
   },
   "outputs": [],
   "source": [
    "df_X = pd.read_csv(\"drugs_x_train.csv\")\n",
    "df_y = pd.read_csv(\"drugs_y_train.csv\")\n",
    "\n",
    "x = df_X.values\n",
    "y = df_y.values\n",
    "\n",
    "x_normalized = (x - x.min()) / (x.max() - x.min())"
   ]
  },
  {
   "cell_type": "markdown",
   "id": "0f572054",
   "metadata": {},
   "source": [
    "### Determine best classifier to use based on cross validation"
   ]
  },
  {
   "cell_type": "code",
   "execution_count": 3,
   "id": "8f8dc451",
   "metadata": {},
   "outputs": [],
   "source": [
    "# cv_score_MLP = (cross_val_score(MLPClassifier(random_state=2, max_iter=2000), x_normalized, y, cv=10, scoring=\"accuracy\")).mean()\n",
    "# cv_score_RF = (cross_val_score(RandomForestClassifier(random_state=1), x_normalized, y, cv=10, scoring=\"accuracy\")).mean()\n",
    "# cv_score_KNN = (cross_val_score(KNeighborsClassifier(n_neighbors=12), x_normalized, y, cv=10, scoring=\"accuracy\")).mean()\n",
    "# cv_score_DCT = (cross_val_score(DecisionTreeClassifier(random_state=1), x_normalized, y, cv=10, scoring=\"accuracy\")).mean()\n",
    "\n",
    "# print(\"MLP: \", cv_score_MLP)\n",
    "# print(\"RF: \", cv_score_RF)\n",
    "# print(\"KNN: \", cv_score_KNN)\n",
    "# print(\"DCT: \", cv_score_DCT)\n"
   ]
  },
  {
   "cell_type": "code",
   "execution_count": 4,
   "id": "677410aa",
   "metadata": {},
   "outputs": [
    {
     "name": "stdout",
     "output_type": "stream",
     "text": [
      "              precision    recall  f1-score   support\n",
      "\n",
      "           0       1.00      1.00      1.00        10\n",
      "           1       0.75      1.00      0.86         3\n",
      "           2       1.00      0.80      0.89         5\n",
      "           3       1.00      1.00      1.00         3\n",
      "\n",
      "   micro avg       0.95      0.95      0.95        21\n",
      "   macro avg       0.94      0.95      0.94        21\n",
      "weighted avg       0.96      0.95      0.95        21\n",
      " samples avg       0.74      0.74      0.74        21\n",
      "\n"
     ]
    },
    {
     "name": "stderr",
     "output_type": "stream",
     "text": [
      "D:\\Data Engineering Class\\Python\\Class\\miniMLproject_Drugs_dataset\\env\\Lib\\site-packages\\sklearn\\metrics\\_classification.py:1344: UndefinedMetricWarning: Precision and F-score are ill-defined and being set to 0.0 in samples with no predicted labels. Use `zero_division` parameter to control this behavior.\n",
      "  _warn_prf(average, modifier, msg_start, len(result))\n",
      "D:\\Data Engineering Class\\Python\\Class\\miniMLproject_Drugs_dataset\\env\\Lib\\site-packages\\sklearn\\metrics\\_classification.py:1344: UndefinedMetricWarning: Recall and F-score are ill-defined and being set to 0.0 in samples with no true labels. Use `zero_division` parameter to control this behavior.\n",
      "  _warn_prf(average, modifier, msg_start, len(result))\n"
     ]
    }
   ],
   "source": [
    "#Train_Test_Split\n",
    "#Fit dataset using Train Test Split\n",
    "x_train, x_test, y_train, y_test = train_test_split(x_normalized,y, test_size=.2, random_state=1)\n",
    "\n",
    "clf = DecisionTreeClassifier(random_state=1, max_depth=4)\n",
    "clf.fit(x_train, y_train)\n",
    "\n",
    "y_pred = clf.predict(x_test)\n",
    "print(classification_report(y_test, y_pred)) #Evaluation\n"
   ]
  },
  {
   "cell_type": "markdown",
   "id": "9d78b0d6",
   "metadata": {},
   "source": [
    "### Fit training data to model"
   ]
  },
  {
   "cell_type": "code",
   "execution_count": 5,
   "id": "5e4c5dc2",
   "metadata": {},
   "outputs": [
    {
     "data": {
      "text/html": [
       "<style>#sk-container-id-1 {color: black;background-color: white;}#sk-container-id-1 pre{padding: 0;}#sk-container-id-1 div.sk-toggleable {background-color: white;}#sk-container-id-1 label.sk-toggleable__label {cursor: pointer;display: block;width: 100%;margin-bottom: 0;padding: 0.3em;box-sizing: border-box;text-align: center;}#sk-container-id-1 label.sk-toggleable__label-arrow:before {content: \"▸\";float: left;margin-right: 0.25em;color: #696969;}#sk-container-id-1 label.sk-toggleable__label-arrow:hover:before {color: black;}#sk-container-id-1 div.sk-estimator:hover label.sk-toggleable__label-arrow:before {color: black;}#sk-container-id-1 div.sk-toggleable__content {max-height: 0;max-width: 0;overflow: hidden;text-align: left;background-color: #f0f8ff;}#sk-container-id-1 div.sk-toggleable__content pre {margin: 0.2em;color: black;border-radius: 0.25em;background-color: #f0f8ff;}#sk-container-id-1 input.sk-toggleable__control:checked~div.sk-toggleable__content {max-height: 200px;max-width: 100%;overflow: auto;}#sk-container-id-1 input.sk-toggleable__control:checked~label.sk-toggleable__label-arrow:before {content: \"▾\";}#sk-container-id-1 div.sk-estimator input.sk-toggleable__control:checked~label.sk-toggleable__label {background-color: #d4ebff;}#sk-container-id-1 div.sk-label input.sk-toggleable__control:checked~label.sk-toggleable__label {background-color: #d4ebff;}#sk-container-id-1 input.sk-hidden--visually {border: 0;clip: rect(1px 1px 1px 1px);clip: rect(1px, 1px, 1px, 1px);height: 1px;margin: -1px;overflow: hidden;padding: 0;position: absolute;width: 1px;}#sk-container-id-1 div.sk-estimator {font-family: monospace;background-color: #f0f8ff;border: 1px dotted black;border-radius: 0.25em;box-sizing: border-box;margin-bottom: 0.5em;}#sk-container-id-1 div.sk-estimator:hover {background-color: #d4ebff;}#sk-container-id-1 div.sk-parallel-item::after {content: \"\";width: 100%;border-bottom: 1px solid gray;flex-grow: 1;}#sk-container-id-1 div.sk-label:hover label.sk-toggleable__label {background-color: #d4ebff;}#sk-container-id-1 div.sk-serial::before {content: \"\";position: absolute;border-left: 1px solid gray;box-sizing: border-box;top: 0;bottom: 0;left: 50%;z-index: 0;}#sk-container-id-1 div.sk-serial {display: flex;flex-direction: column;align-items: center;background-color: white;padding-right: 0.2em;padding-left: 0.2em;position: relative;}#sk-container-id-1 div.sk-item {position: relative;z-index: 1;}#sk-container-id-1 div.sk-parallel {display: flex;align-items: stretch;justify-content: center;background-color: white;position: relative;}#sk-container-id-1 div.sk-item::before, #sk-container-id-1 div.sk-parallel-item::before {content: \"\";position: absolute;border-left: 1px solid gray;box-sizing: border-box;top: 0;bottom: 0;left: 50%;z-index: -1;}#sk-container-id-1 div.sk-parallel-item {display: flex;flex-direction: column;z-index: 1;position: relative;background-color: white;}#sk-container-id-1 div.sk-parallel-item:first-child::after {align-self: flex-end;width: 50%;}#sk-container-id-1 div.sk-parallel-item:last-child::after {align-self: flex-start;width: 50%;}#sk-container-id-1 div.sk-parallel-item:only-child::after {width: 0;}#sk-container-id-1 div.sk-dashed-wrapped {border: 1px dashed gray;margin: 0 0.4em 0.5em 0.4em;box-sizing: border-box;padding-bottom: 0.4em;background-color: white;}#sk-container-id-1 div.sk-label label {font-family: monospace;font-weight: bold;display: inline-block;line-height: 1.2em;}#sk-container-id-1 div.sk-label-container {text-align: center;}#sk-container-id-1 div.sk-container {/* jupyter's `normalize.less` sets `[hidden] { display: none; }` but bootstrap.min.css set `[hidden] { display: none !important; }` so we also need the `!important` here to be able to override the default hidden behavior on the sphinx rendered scikit-learn.org. See: https://github.com/scikit-learn/scikit-learn/issues/21755 */display: inline-block !important;position: relative;}#sk-container-id-1 div.sk-text-repr-fallback {display: none;}</style><div id=\"sk-container-id-1\" class=\"sk-top-container\"><div class=\"sk-text-repr-fallback\"><pre>DecisionTreeClassifier(random_state=1)</pre><b>In a Jupyter environment, please rerun this cell to show the HTML representation or trust the notebook. <br />On GitHub, the HTML representation is unable to render, please try loading this page with nbviewer.org.</b></div><div class=\"sk-container\" hidden><div class=\"sk-item\"><div class=\"sk-estimator sk-toggleable\"><input class=\"sk-toggleable__control sk-hidden--visually\" id=\"sk-estimator-id-1\" type=\"checkbox\" checked><label for=\"sk-estimator-id-1\" class=\"sk-toggleable__label sk-toggleable__label-arrow\">DecisionTreeClassifier</label><div class=\"sk-toggleable__content\"><pre>DecisionTreeClassifier(random_state=1)</pre></div></div></div></div></div>"
      ],
      "text/plain": [
       "DecisionTreeClassifier(random_state=1)"
      ]
     },
     "execution_count": 5,
     "metadata": {},
     "output_type": "execute_result"
    }
   ],
   "source": [
    "# Decision Tree Classifier: Fit the training data\n",
    "clf = DecisionTreeClassifier(random_state=1)\n",
    "clf.fit(x_normalized, y)"
   ]
  },
  {
   "cell_type": "markdown",
   "id": "e65e546b",
   "metadata": {},
   "source": [
    "### hyper-parameter tuning using GridSearchCV"
   ]
  },
  {
   "cell_type": "code",
   "execution_count": 6,
   "id": "93e66b0c",
   "metadata": {},
   "outputs": [
    {
     "name": "stdout",
     "output_type": "stream",
     "text": [
      "best estimator:  DecisionTreeClassifier(max_depth=4, random_state=1)\n",
      "best score:  0.9851648351648352\n",
      "best params:  {'criterion': 'gini', 'max_depth': 4, 'splitter': 'best'}\n"
     ]
    }
   ],
   "source": [
    "param_dist = {\n",
    "    \"criterion\":[\"gini\", \"entropy\"],\n",
    "    \"max_depth\":[1,2,3,4,5,6,7,None],\n",
    "    \"splitter\":[\"best\", \"random\"]        \n",
    "}\n",
    "\n",
    "grid = GridSearchCV(clf, param_grid = param_dist, cv=10, n_jobs=-1)\n",
    "grid.fit(x, y)\n",
    "print(\"best estimator: \", grid.best_estimator_)\n",
    "print(\"best score: \", grid.best_score_)\n",
    "print(\"best params: \", grid.best_params_)"
   ]
  },
  {
   "cell_type": "markdown",
   "id": "06adae14",
   "metadata": {},
   "source": [
    "### Fit data to model after parameter tuning\n"
   ]
  },
  {
   "cell_type": "code",
   "execution_count": 9,
   "id": "87697737",
   "metadata": {},
   "outputs": [
    {
     "name": "stdout",
     "output_type": "stream",
     "text": [
      "              precision    recall  f1-score   support\n",
      "\n",
      "           0       1.00      1.00      1.00        29\n",
      "           1       1.00      1.00      1.00         8\n",
      "           2       1.00      1.00      1.00         4\n",
      "           3       1.00      1.00      1.00         6\n",
      "\n",
      "   micro avg       1.00      1.00      1.00        47\n",
      "   macro avg       1.00      1.00      1.00        47\n",
      "weighted avg       1.00      1.00      1.00        47\n",
      " samples avg       0.71      0.71      0.71        47\n",
      "\n"
     ]
    },
    {
     "name": "stderr",
     "output_type": "stream",
     "text": [
      "D:\\Data Engineering Class\\Python\\Class\\miniMLproject_Drugs_dataset\\env\\Lib\\site-packages\\sklearn\\metrics\\_classification.py:1344: UndefinedMetricWarning: Precision and F-score are ill-defined and being set to 0.0 in samples with no predicted labels. Use `zero_division` parameter to control this behavior.\n",
      "  _warn_prf(average, modifier, msg_start, len(result))\n",
      "D:\\Data Engineering Class\\Python\\Class\\miniMLproject_Drugs_dataset\\env\\Lib\\site-packages\\sklearn\\metrics\\_classification.py:1344: UndefinedMetricWarning: Recall and F-score are ill-defined and being set to 0.0 in samples with no true labels. Use `zero_division` parameter to control this behavior.\n",
      "  _warn_prf(average, modifier, msg_start, len(result))\n"
     ]
    },
    {
     "data": {
      "text/plain": [
       "0.9851648351648352"
      ]
     },
     "execution_count": 9,
     "metadata": {},
     "output_type": "execute_result"
    }
   ],
   "source": [
    "df_X = pd.read_csv(\"drugs_x_test.csv\")\n",
    "df_y = pd.read_csv(\"drugs_y_test.csv\")\n",
    "\n",
    "x_test = df_X.values\n",
    "y_test = df_y.values\n",
    "\n",
    "# Decision Tree Classifier: Fit the training data\n",
    "clf = DecisionTreeClassifier(random_state=1, max_depth=4, criterion=\"gini\")\n",
    "clf.fit(x, y)\n",
    "#clf=load(\"ml_drugsdata_v3.joblib\")\n",
    "y_pred = clf.predict(x_test)\n",
    "\n",
    "print(classification_report(y_test, y_pred)) #Evaluation\n",
    "\n",
    "cv_score_DCT_best_param = (cross_val_score(DecisionTreeClassifier(random_state=1, max_depth=4, criterion=\"gini\"), x_normalized, y, cv=10, scoring=\"accuracy\")).mean()\n",
    "cv_score_DCT_best_param\n"
   ]
  },
  {
   "cell_type": "markdown",
   "id": "15ecd6c7",
   "metadata": {},
   "source": [
    "### Dump model file"
   ]
  },
  {
   "cell_type": "code",
   "execution_count": 8,
   "id": "0ac32f0b",
   "metadata": {},
   "outputs": [
    {
     "data": {
      "text/plain": [
       "['ml_drugsdata_v3.joblib']"
      ]
     },
     "execution_count": 8,
     "metadata": {},
     "output_type": "execute_result"
    }
   ],
   "source": [
    "model_file = \"ml_drugsdata_v3.joblib\"\n",
    "dump(clf, model_file)"
   ]
  },
  {
   "cell_type": "code",
   "execution_count": null,
   "id": "54fbda47",
   "metadata": {},
   "outputs": [],
   "source": []
  }
 ],
 "metadata": {
  "kernelspec": {
   "display_name": "Python 3 (ipykernel)",
   "language": "python",
   "name": "python3"
  },
  "language_info": {
   "codemirror_mode": {
    "name": "ipython",
    "version": 3
   },
   "file_extension": ".py",
   "mimetype": "text/x-python",
   "name": "python",
   "nbconvert_exporter": "python",
   "pygments_lexer": "ipython3",
   "version": "3.11.0"
  }
 },
 "nbformat": 4,
 "nbformat_minor": 5
}
