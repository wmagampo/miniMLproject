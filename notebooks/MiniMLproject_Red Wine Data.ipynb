{
 "cells": [
  {
   "cell_type": "code",
   "execution_count": 1,
   "id": "394113f9",
   "metadata": {},
   "outputs": [],
   "source": [
    "import pandas as pd\n",
    "from sklearn.neural_network import MLPClassifier\n",
    "from joblib import dump, load\n"
   ]
  },
  {
   "cell_type": "code",
   "execution_count": null,
   "id": "00840d35",
   "metadata": {},
   "outputs": [],
   "source": [
    "df_X = pd.read_csv(\"drugs_x_train.csv\")\n",
    "df_y = pd.read_csv(\"drugs_y_train.csv\")\n",
    "\n",
    "x = df_X.values\n",
    "y = df_y.values\n",
    "\n",
    "x_normalized = (x - x.min()) / (x.max() - x.min())\n",
    "x_normalized"
   ]
  }
 ],
 "metadata": {
  "kernelspec": {
   "display_name": "Python 3 (ipykernel)",
   "language": "python",
   "name": "python3"
  },
  "language_info": {
   "codemirror_mode": {
    "name": "ipython",
    "version": 3
   },
   "file_extension": ".py",
   "mimetype": "text/x-python",
   "name": "python",
   "nbconvert_exporter": "python",
   "pygments_lexer": "ipython3",
   "version": "3.11.0"
  }
 },
 "nbformat": 4,
 "nbformat_minor": 5
}
