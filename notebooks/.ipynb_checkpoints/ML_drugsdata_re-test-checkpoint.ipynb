{
 "cells": [
  {
   "cell_type": "code",
   "execution_count": 1,
   "id": "e70b12d5",
   "metadata": {},
   "outputs": [],
   "source": [
    "import pandas as pd\n",
    "from sklearn.neural_network import MLPClassifier\n",
    "from sklearn.ensemble import RandomForestClassifier\n",
    "from sklearn.neighbors import KNeighborsClassifier\n",
    "from sklearn.tree import DecisionTreeClassifier\n",
    "from sklearn.model_selection import cross_val_score\n",
    "from sklearn.metrics import classification_report\n",
    "from sklearn.model_selection import GridSearchCV\n",
    "from joblib import dump, load\n",
    "from sklearn.model_selection import train_test_split"
   ]
  },
  {
   "cell_type": "code",
   "execution_count": 2,
   "id": "cb57d105",
   "metadata": {},
   "outputs": [],
   "source": [
    "df_X = pd.read_csv(\"drugs_x_train.csv\")\n",
    "df_y = pd.read_csv(\"drugs_y_train.csv\")\n",
    "\n",
    "x = df_X.values\n",
    "y = df_y.values\n",
    "\n",
    "x_normalized = (x - x.min()) / (x.max() - x.min())"
   ]
  },
  {
   "cell_type": "code",
   "execution_count": 3,
   "id": "e43365ce",
   "metadata": {},
   "outputs": [
    {
     "data": {
      "text/plain": [
       "0.9851648351648352"
      ]
     },
     "execution_count": 3,
     "metadata": {},
     "output_type": "execute_result"
    }
   ],
   "source": [
    "# Decision Tree Classifier: Fit the training data\n",
    "clf = DecisionTreeClassifier(random_state=1, max_depth=4, criterion=\"gini\")\n",
    "clf.fit(x_normalized, y)\n",
    "\n",
    "cv_score_DCT_best_param = (cross_val_score(DecisionTreeClassifier(random_state=1, max_depth=4, criterion=\"gini\"), x_normalized, y, cv=10, scoring=\"accuracy\")).mean()\n",
    "cv_score_DCT_best_param\n"
   ]
  },
  {
   "cell_type": "code",
   "execution_count": 6,
   "id": "5aed947b",
   "metadata": {},
   "outputs": [
    {
     "name": "stdout",
     "output_type": "stream",
     "text": [
      "              precision    recall  f1-score   support\n",
      "\n",
      "           0       1.00      1.00      1.00        29\n",
      "           1       1.00      1.00      1.00         8\n",
      "           2       1.00      1.00      1.00         4\n",
      "           3       1.00      1.00      1.00         6\n",
      "\n",
      "   micro avg       1.00      1.00      1.00        47\n",
      "   macro avg       1.00      1.00      1.00        47\n",
      "weighted avg       1.00      1.00      1.00        47\n",
      " samples avg       0.71      0.71      0.71        47\n",
      "\n"
     ]
    },
    {
     "name": "stderr",
     "output_type": "stream",
     "text": [
      "D:\\Data Engineering Class\\Python\\Class\\miniMLproject_Drugs_dataset\\env\\Lib\\site-packages\\sklearn\\metrics\\_classification.py:1344: UndefinedMetricWarning: Precision and F-score are ill-defined and being set to 0.0 in samples with no predicted labels. Use `zero_division` parameter to control this behavior.\n",
      "  _warn_prf(average, modifier, msg_start, len(result))\n",
      "D:\\Data Engineering Class\\Python\\Class\\miniMLproject_Drugs_dataset\\env\\Lib\\site-packages\\sklearn\\metrics\\_classification.py:1344: UndefinedMetricWarning: Recall and F-score are ill-defined and being set to 0.0 in samples with no true labels. Use `zero_division` parameter to control this behavior.\n",
      "  _warn_prf(average, modifier, msg_start, len(result))\n"
     ]
    }
   ],
   "source": [
    "df_X = pd.read_csv(\"drugs_x_test.csv\")\n",
    "df_y = pd.read_csv(\"drugs_y_test.csv\")\n",
    "\n",
    "x_test = df_X.values\n",
    "y_test = df_y.values\n",
    "\n",
    "#Decision Tree Classifier: Fit the training data\n",
    "clf = DecisionTreeClassifier(random_state=1, max_depth=4, criterion=\"gini\")\n",
    "clf.fit(x, y)\n",
    "y_pred = clf.predict(x_test)\n",
    "\n",
    "print(classification_report(y_test, y_pred)) #Evaluation"
   ]
  },
  {
   "cell_type": "code",
   "execution_count": null,
   "id": "809f7935",
   "metadata": {},
   "outputs": [],
   "source": []
  }
 ],
 "metadata": {
  "kernelspec": {
   "display_name": "Python 3 (ipykernel)",
   "language": "python",
   "name": "python3"
  },
  "language_info": {
   "codemirror_mode": {
    "name": "ipython",
    "version": 3
   },
   "file_extension": ".py",
   "mimetype": "text/x-python",
   "name": "python",
   "nbconvert_exporter": "python",
   "pygments_lexer": "ipython3",
   "version": "3.11.0"
  }
 },
 "nbformat": 4,
 "nbformat_minor": 5
}
